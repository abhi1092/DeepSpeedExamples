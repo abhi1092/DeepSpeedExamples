{
 "cells": [
  {
   "cell_type": "markdown",
   "metadata": {},
   "source": [
    "# preparing samples from the model for alpaca farm"
   ]
  },
  {
   "cell_type": "code",
   "execution_count": 1,
   "metadata": {},
   "outputs": [],
   "source": [
    "from datasets import load_dataset\n",
    "from alpaca_farm.auto_annotations import PairwiseAutoAnnotator\n"
   ]
  },
  {
   "cell_type": "code",
   "execution_count": 4,
   "metadata": {},
   "outputs": [],
   "source": [
    "dataset = load_dataset(\"json\", data_files=\"/Users/aldo/Downloads/samples.jsonl\", split=\"train\")\n",
    "#shuffle the dataset\n",
    "dataset = dataset.shuffle()"
   ]
  },
  {
   "cell_type": "code",
   "execution_count": 5,
   "metadata": {},
   "outputs": [
    {
     "data": {
      "application/vnd.jupyter.widget-view+json": {
       "model_id": "94a57ccb155c4a0f815dee2f93b285b5",
       "version_major": 2,
       "version_minor": 0
      },
      "text/plain": [
       "Map:   0%|          | 0/116728 [00:00<?, ? examples/s]"
      ]
     },
     "metadata": {},
     "output_type": "display_data"
    },
    {
     "data": {
      "application/vnd.jupyter.widget-view+json": {
       "model_id": "492a3d123e0c4b7b9aa0b921d534b517",
       "version_major": 2,
       "version_minor": 0
      },
      "text/plain": [
       "Map:   0%|          | 0/116728 [00:00<?, ? examples/s]"
      ]
     },
     "metadata": {},
     "output_type": "display_data"
    }
   ],
   "source": [
    "def rename_columns_0(example):\n",
    "    example[\"instruction\"] = example[\"prompt\"]\n",
    "    example[\"output\"] = example[\"answer_1\"]\n",
    "    # example[\"output\"] = example[\"answer_2\"]\n",
    "    # example[\"input\"] = \"\"\n",
    "    example[\"dataset\"] = \"\"\n",
    "    example[\"datasplit\"] = \"train\"\n",
    "    return example\n",
    "def rename_columns_1(example):\n",
    "    example[\"instruction\"] = example[\"prompt\"]\n",
    "    # example[\"output\"] = example[\"answer_1\"]\n",
    "    example[\"output\"] = example[\"answer_2\"]\n",
    "    # example[\"input\"] = \"\"\n",
    "    example[\"dataset\"] = \"\"\n",
    "    example[\"datasplit\"] = \"train\"\n",
    "    return example\n",
    "dataset_0 = dataset.map(rename_columns_0, remove_columns=[\"prompt\", \"answer_1\", \"answer_2\"])\n",
    "dataset_1 = dataset.map(rename_columns_1, remove_columns=[\"prompt\", \"answer_1\", \"answer_2\"])"
   ]
  },
  {
   "cell_type": "code",
   "execution_count": 6,
   "metadata": {},
   "outputs": [],
   "source": [
    "dataset_20k_0 = dataset_0.select(range(20000))\n",
    "dataset_20k_1 = dataset_1.select(range(20000))\n",
    "#select last 1000 examples\n",
    "dataset_1k_0 = dataset_0.select(range(20000, 21000))\n",
    "dataset_1k_1 = dataset_1.select(range(20000, 21000))\n"
   ]
  },
  {
   "cell_type": "code",
   "execution_count": 7,
   "metadata": {},
   "outputs": [
    {
     "data": {
      "application/vnd.jupyter.widget-view+json": {
       "model_id": "0a2bff4eb3ae4ef08779d0a0286c119c",
       "version_major": 2,
       "version_minor": 0
      },
      "text/plain": [
       "Creating CSV from Arrow format:   0%|          | 0/20 [00:00<?, ?ba/s]"
      ]
     },
     "metadata": {},
     "output_type": "display_data"
    },
    {
     "data": {
      "application/vnd.jupyter.widget-view+json": {
       "model_id": "8f5f3018fc5c4f288874ae726bfd5867",
       "version_major": 2,
       "version_minor": 0
      },
      "text/plain": [
       "Creating CSV from Arrow format:   0%|          | 0/20 [00:00<?, ?ba/s]"
      ]
     },
     "metadata": {},
     "output_type": "display_data"
    },
    {
     "data": {
      "application/vnd.jupyter.widget-view+json": {
       "model_id": "a6dae34cf0d44ad0a1a2b6ee37ba82a7",
       "version_major": 2,
       "version_minor": 0
      },
      "text/plain": [
       "Creating CSV from Arrow format:   0%|          | 0/1 [00:00<?, ?ba/s]"
      ]
     },
     "metadata": {},
     "output_type": "display_data"
    },
    {
     "data": {
      "application/vnd.jupyter.widget-view+json": {
       "model_id": "4a04af3882944692baac347161e7edb7",
       "version_major": 2,
       "version_minor": 0
      },
      "text/plain": [
       "Creating CSV from Arrow format:   0%|          | 0/1 [00:00<?, ?ba/s]"
      ]
     },
     "metadata": {},
     "output_type": "display_data"
    },
    {
     "data": {
      "text/plain": [
       "1704011"
      ]
     },
     "execution_count": 7,
     "metadata": {},
     "output_type": "execute_result"
    }
   ],
   "source": [
    "dataset_20k_0.to_csv(\"/Users/aldo/Downloads/samples_20k_0.csv\")\n",
    "dataset_20k_1.to_csv(\"/Users/aldo/Downloads/samples_20k_1.csv\")\n",
    "dataset_1k_0.to_csv(\"/Users/aldo/Downloads/samples_1k_0.csv\")\n",
    "dataset_1k_1.to_csv(\"/Users/aldo/Downloads/samples_1k_1.csv\")"
   ]
  },
  {
   "cell_type": "markdown",
   "metadata": {},
   "source": [
    "# postprocessing after sampling"
   ]
  },
  {
   "cell_type": "code",
   "execution_count": 19,
   "metadata": {},
   "outputs": [
    {
     "data": {
      "application/vnd.jupyter.widget-view+json": {
       "model_id": "54a6b981d22841d3af3d974783c7e983",
       "version_major": 2,
       "version_minor": 0
      },
      "text/plain": [
       "Downloading data files:   0%|          | 0/1 [00:00<?, ?it/s]"
      ]
     },
     "metadata": {},
     "output_type": "display_data"
    },
    {
     "data": {
      "application/vnd.jupyter.widget-view+json": {
       "model_id": "c40bec17e4be4712935df2ffb8000057",
       "version_major": 2,
       "version_minor": 0
      },
      "text/plain": [
       "Extracting data files:   0%|          | 0/1 [00:00<?, ?it/s]"
      ]
     },
     "metadata": {},
     "output_type": "display_data"
    },
    {
     "data": {
      "application/vnd.jupyter.widget-view+json": {
       "model_id": "e4289defccb24643b91fdcbd86e1d316",
       "version_major": 2,
       "version_minor": 0
      },
      "text/plain": [
       "Generating train split: 0 examples [00:00, ? examples/s]"
      ]
     },
     "metadata": {},
     "output_type": "display_data"
    }
   ],
   "source": [
    "annotated = load_dataset(\"json\", data_files=\"/Users/aldo/miniconda3/envs/rl4llm/lib/python3.10/site-packages/alpaca_eval/evaluators_configs/alpaca_eval_gpt4/annotations_seed0_configs.json\", split=\"train\")"
   ]
  },
  {
   "cell_type": "code",
   "execution_count": 20,
   "metadata": {},
   "outputs": [
    {
     "data": {
      "application/vnd.jupyter.widget-view+json": {
       "model_id": "e34f97265a6a431393f3d96de3700ead",
       "version_major": 2,
       "version_minor": 0
      },
      "text/plain": [
       "Filter:   0%|          | 0/20636 [00:00<?, ? examples/s]"
      ]
     },
     "metadata": {},
     "output_type": "display_data"
    },
    {
     "name": "stdout",
     "output_type": "stream",
     "text": [
      "there are 1501 out of 20636 errors where the preference is not 1 or 2\n"
     ]
    }
   ],
   "source": [
    "errors = annotated.filter(lambda x: x[\"preference\"] not in [1,2])\n",
    "print(f\"there are {len(errors)} out of {len(annotated)} errors where the preference is not 1 or 2\")"
   ]
  },
  {
   "cell_type": "markdown",
   "metadata": {},
   "source": []
  },
  {
   "cell_type": "code",
   "execution_count": 21,
   "metadata": {},
   "outputs": [
    {
     "data": {
      "application/vnd.jupyter.widget-view+json": {
       "model_id": "c0f30dc94cfb49da95e9128f18e85a95",
       "version_major": 2,
       "version_minor": 0
      },
      "text/plain": [
       "Filter:   0%|          | 0/20636 [00:00<?, ? examples/s]"
      ]
     },
     "metadata": {},
     "output_type": "display_data"
    }
   ],
   "source": [
    "without_errors = annotated.filter(lambda x: x[\"preference\"] in [1,2])"
   ]
  },
  {
   "cell_type": "code",
   "execution_count": 22,
   "metadata": {},
   "outputs": [
    {
     "data": {
      "application/vnd.jupyter.widget-view+json": {
       "model_id": "b27fa77bdcbc4a2b858315c8d4e6062e",
       "version_major": 2,
       "version_minor": 0
      },
      "text/plain": [
       "Map:   0%|          | 0/19135 [00:00<?, ? examples/s]"
      ]
     },
     "metadata": {},
     "output_type": "display_data"
    },
    {
     "data": {
      "text/plain": [
       "Dataset({\n",
       "    features: ['output_1', 'annotator', 'price_per_example', 'preference', 'time_per_example', 'output_2', 'instruction'],\n",
       "    num_rows: 19135\n",
       "})"
      ]
     },
     "execution_count": 22,
     "metadata": {},
     "output_type": "execute_result"
    }
   ],
   "source": [
    "def build_rm_format(example):\n",
    "  example['prompt'] = example['instruction']\n",
    "  if example['preference'] == 1:\n",
    "    example['chosen'] = example['output_1']\n",
    "    example['rejected'] = example['output_2']\n",
    "  elif example['preference'] == 2:\n",
    "    example['chosen'] = example['output_2']\n",
    "    example['rejected'] = example['output_1']\n",
    "  else: \n",
    "    raise ValueError(\"preference must be 1 or 2\")\n",
    "  return example\n",
    "\n",
    "without_errors_rm = without_errors.map(build_rm_format, remove_columns=[\"output_1\", \"output_2\", \"preference\", \"instruction\"])\n",
    "without_errors"
   ]
  },
  {
   "cell_type": "code",
   "execution_count": 23,
   "metadata": {},
   "outputs": [],
   "source": [
    "previous_data = load_dataset(\"json\", data_files=\"/Users/aldo/Downloads/samples_rm.jsonl\", split=\"train\")"
   ]
  },
  {
   "cell_type": "code",
   "execution_count": 24,
   "metadata": {},
   "outputs": [
    {
     "data": {
      "application/vnd.jupyter.widget-view+json": {
       "model_id": "50b593f7212346df8d39fd8dac194c46",
       "version_major": 2,
       "version_minor": 0
      },
      "text/plain": [
       "Filter (num_proc=8):   0%|          | 0/19135 [00:00<?, ? examples/s]"
      ]
     },
     "metadata": {},
     "output_type": "display_data"
    }
   ],
   "source": [
    "#get data points that are in without_errors but not in previous data\n",
    "new_data = without_errors_rm.filter(lambda x: x[\"prompt\"] not in previous_data[\"prompt\"], num_proc=8)"
   ]
  },
  {
   "cell_type": "code",
   "execution_count": 25,
   "metadata": {},
   "outputs": [
    {
     "data": {
      "text/plain": [
       "Dataset({\n",
       "    features: ['annotator', 'price_per_example', 'time_per_example', 'prompt', 'chosen', 'rejected'],\n",
       "    num_rows: 500\n",
       "})"
      ]
     },
     "execution_count": 25,
     "metadata": {},
     "output_type": "execute_result"
    }
   ],
   "source": [
    "new_data"
   ]
  },
  {
   "cell_type": "code",
   "execution_count": 26,
   "metadata": {},
   "outputs": [],
   "source": [
    "import json\n",
    "\n",
    "# with open(\"/Users/aldo/Downloads/samples_rm.jsonl\", \"w\") as f:\n",
    "#   for sample in without_errors_rm:\n",
    "#     f.write(json.dumps(sample))\n",
    "#     f.write(\"\\n\")\n",
    "    \n",
    "\n",
    "with open(\"/Users/aldo/Downloads/samples_rm_eval.jsonl\", \"w\") as f:\n",
    "  for sample in new_data:\n",
    "    f.write(json.dumps(sample))\n",
    "    f.write(\"\\n\")"
   ]
  },
  {
   "cell_type": "code",
   "execution_count": null,
   "metadata": {},
   "outputs": [],
   "source": []
  }
 ],
 "metadata": {
  "kernelspec": {
   "display_name": "rl4llm",
   "language": "python",
   "name": "python3"
  },
  "language_info": {
   "codemirror_mode": {
    "name": "ipython",
    "version": 3
   },
   "file_extension": ".py",
   "mimetype": "text/x-python",
   "name": "python",
   "nbconvert_exporter": "python",
   "pygments_lexer": "ipython3",
   "version": "3.10.11"
  },
  "orig_nbformat": 4
 },
 "nbformat": 4,
 "nbformat_minor": 2
}
